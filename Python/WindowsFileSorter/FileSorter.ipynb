{
 "cells": [
  {
   "cell_type": "code",
   "execution_count": 1,
   "id": "32df14c0-18b0-430e-8b83-517fb98d89bf",
   "metadata": {},
   "outputs": [],
   "source": [
    "import os, shutil"
   ]
  },
  {
   "cell_type": "code",
   "execution_count": 10,
   "id": "c6046426-aee8-4673-8173-dab9754ad9b6",
   "metadata": {},
   "outputs": [],
   "source": [
    "path = r\"C:/all/DATA ANALYST BOOTCAMP/Projects/PythonFile Sort/\""
   ]
  },
  {
   "cell_type": "code",
   "execution_count": 20,
   "id": "d7824f10-50c4-4c16-8e91-10c7dbfcc35f",
   "metadata": {},
   "outputs": [],
   "source": [
    "file_names = os.listdir(path)"
   ]
  },
  {
   "cell_type": "code",
   "execution_count": 16,
   "id": "4c04f778-6e5d-41b0-9e76-9dab0f45edb6",
   "metadata": {},
   "outputs": [],
   "source": [
    "folder_names = ['jpeg files', 'jpg files', 'pdf files', 'mp4 files']\n",
    "\n",
    "for loop in range(0,4):\n",
    "   if not os.path.exists(path + folder_names[loop]):\n",
    "       os.makedirs(path + folder_names[loop])"
   ]
  },
  {
   "cell_type": "code",
   "execution_count": 26,
   "id": "3b498077-b115-4425-bd59-c41c460a8bed",
   "metadata": {},
   "outputs": [],
   "source": [
    "for file in file_names:\n",
    "    if '.jpeg' in file and not os.path.exists(path +  'jpeg files/' + file):\n",
    "        shutil.move(path + file, path + 'jpeg files/' + file )\n",
    "    elif '.jpg' in file and not os.path.exists(path +  'jpg files/' + file):\n",
    "        shutil.move(path + file, path + 'jpg files/' + file )\n",
    "    elif '.pdf' in file and not os.path.exists(path +  'pdf files/' + file):\n",
    "        shutil.move(path + file, path + 'pdf files/' + file )\n",
    "    elif '.mp4' in file and not os.path.exists(path +  'mp4 files/' + file):\n",
    "        shutil.move(path + file, path + 'mp4 files/' + file )"
   ]
  },
  {
   "cell_type": "code",
   "execution_count": null,
   "id": "d8059528-f099-46ec-b5c6-e929f7773eec",
   "metadata": {},
   "outputs": [],
   "source": []
  }
 ],
 "metadata": {
  "kernelspec": {
   "display_name": "Python 3 (ipykernel)",
   "language": "python",
   "name": "python3"
  },
  "language_info": {
   "codemirror_mode": {
    "name": "ipython",
    "version": 3
   },
   "file_extension": ".py",
   "mimetype": "text/x-python",
   "name": "python",
   "nbconvert_exporter": "python",
   "pygments_lexer": "ipython3",
   "version": "3.9.20"
  }
 },
 "nbformat": 4,
 "nbformat_minor": 5
}
